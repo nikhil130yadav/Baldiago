{
 "cells": [
  {
   "cell_type": "code",
   "execution_count": 1,
   "metadata": {
    "_cell_guid": "b1076dfc-b9ad-4769-8c92-a6c4dae69d19",
    "_uuid": "8f2839f25d086af736a60e9eeb907d3b93b6e0e5"
   },
   "outputs": [
    {
     "name": "stdout",
     "output_type": "stream",
     "text": [
      "C:\\Users\\1294414\\Documents\\ML practice folder\\Baldness\n",
      "['.ipynb_checkpoints', 'anuj', 'Bald', 'bald.jpg', 'bald2.jpg', 'bald3.jpg', 'baldnes.ipynb', 'data.csv', 'hair.jpg', 'image.jpg', 'nik.png', 'Normal', 'randomForest.model', 'shubam.jpg', 'svc_clf_128.model', 'Ximage.images', 'Yimage.classes']\n"
     ]
    }
   ],
   "source": [
    "# This Python 3 environment comes with many helpful analytics libraries installed\n",
    "# It is defined by the kaggle/python docker image: https://github.com/kaggle/docker-python\n",
    "# For example, here's several helpful packages to load in \n",
    "\n",
    "import numpy as np # linear algebra\n",
    "import pandas as pd # data processing, CSV file I/O (e.g. pd.read_csv)\n",
    "from matplotlib import pyplot as plt\n",
    "import seaborn as sns\n",
    "# Input data files are available in the \"../input/\" directory.\n",
    "# For example, running this (by clicking run or pressing Shift+Enter) will list the files in the input directory\n",
    "from sklearn.svm import SVC\n",
    "from sklearn.ensemble import RandomForestClassifier\n",
    "from sklearn.model_selection import train_test_split\n",
    "from sklearn.metrics import accuracy_score\n",
    "from sklearn import metrics\n",
    "from joblib import dump\n",
    "from joblib import load,dump\n",
    "import pickle\n",
    "import os\n",
    "import cv2\n",
    "print(os.getcwd())\n",
    "print(os.listdir(\"../baldness\"))\n",
    " #write to the current directory are saved as output."
   ]
  },
  {
   "cell_type": "code",
   "execution_count": 2,
   "metadata": {},
   "outputs": [],
   "source": [
    "#print(os.listdir(\"../input/chest_xray/chest_xray/train/NORMAL\"))\n",
    "classes = {\"Bald\":0,\"Normal\":1}\n"
   ]
  },
  {
   "cell_type": "code",
   "execution_count": 3,
   "metadata": {},
   "outputs": [],
   "source": [
    "#train_data =[]\n",
    "\n",
    "def getpathclass(folderName=None):\n",
    "    data_list =[]\n",
    "    foldername = folderName\n",
    "    if folderName != None:\n",
    "        folder_path = os.path.join(\"../baldness\",str(folderName))\n",
    "        #print(folder_path)\n",
    "        for images in os.listdir(folder_path):\n",
    "            #print(type(foldername))\n",
    "            #print(foldername)\n",
    "            if foldername == str(\"Bald\"):\n",
    "                folder_path_bald = os.path.join(folder_path,images)\n",
    "                data_list.append([os.path.abspath(folder_path_bald),classes[\"Bald\"]])\n",
    "            if foldername == \"Normal\":\n",
    "                folder_path_normal = os.path.join(folder_path,images)\n",
    "                data_list.append([os.path.abspath(folder_path_normal),classes[\"Normal\"]])\n",
    "        return data_list    \n",
    "    else:    #print(len(train_data))            \n",
    "        return data_list"
   ]
  },
  {
   "cell_type": "code",
   "execution_count": 4,
   "metadata": {},
   "outputs": [],
   "source": [
    "bald_data = getpathclass(\"Bald\")\n",
    "normal_data = getpathclass(\"Normal\")"
   ]
  },
  {
   "cell_type": "code",
   "execution_count": null,
   "metadata": {},
   "outputs": [],
   "source": []
  },
  {
   "cell_type": "markdown",
   "metadata": {},
   "source": []
  },
  {
   "cell_type": "code",
   "execution_count": 5,
   "metadata": {},
   "outputs": [],
   "source": [
    "#print(len(train_data))\n",
    "#df_bald = pd.DataFrame()\n",
    "df_bald = pd.DataFrame(bald_data,columns=[\"PATH\",\"CLASS\"])\n",
    "df_normal = pd.DataFrame(normal_data,columns=[\"PATH\",\"CLASS\"])"
   ]
  },
  {
   "cell_type": "code",
   "execution_count": 6,
   "metadata": {},
   "outputs": [],
   "source": [
    "df_data_complete = pd.concat([df_bald,df_normal],ignore_index=True)\n",
    "#print(df_data_complete)"
   ]
  },
  {
   "cell_type": "code",
   "execution_count": 7,
   "metadata": {},
   "outputs": [],
   "source": [
    "df_data_complete.to_csv(\"data.csv\")\n"
   ]
  },
  {
   "cell_type": "code",
   "execution_count": 8,
   "metadata": {},
   "outputs": [
    {
     "name": "stdout",
     "output_type": "stream",
     "text": [
      "C:\\Users\\1294414\\Documents\\ML practice folder\\baldness\\Bald\\15-simple-hairstyle-for-receding-hairline.png\n"
     ]
    }
   ],
   "source": [
    "\n",
    "#df_data_complete.columns\n",
    "print(df_data_complete.PATH[0])"
   ]
  },
  {
   "cell_type": "code",
   "execution_count": 9,
   "metadata": {},
   "outputs": [
    {
     "name": "stdout",
     "output_type": "stream",
     "text": [
      "[[[223 220 216]\n",
      "  [223 220 216]\n",
      "  [223 220 216]\n",
      "  ...\n",
      "  [222 220 220]\n",
      "  [222 220 220]\n",
      "  [222 221 217]]\n",
      "\n",
      " [[223 220 216]\n",
      "  [223 220 216]\n",
      "  [223 220 216]\n",
      "  ...\n",
      "  [222 220 220]\n",
      "  [222 220 220]\n",
      "  [222 220 219]]\n",
      "\n",
      " [[224 221 217]\n",
      "  [224 221 217]\n",
      "  [224 221 217]\n",
      "  ...\n",
      "  [222 220 220]\n",
      "  [222 220 220]\n",
      "  [222 220 220]]\n",
      "\n",
      " ...\n",
      "\n",
      " [[214 214 214]\n",
      "  [214 214 214]\n",
      "  [214 214 214]\n",
      "  ...\n",
      "  [217 218 216]\n",
      "  [215 218 216]\n",
      "  [216 217 215]]\n",
      "\n",
      " [[214 214 214]\n",
      "  [214 214 214]\n",
      "  [214 214 214]\n",
      "  ...\n",
      "  [217 218 216]\n",
      "  [215 218 216]\n",
      "  [216 217 215]]\n",
      "\n",
      " [[214 214 214]\n",
      "  [214 214 214]\n",
      "  [214 214 214]\n",
      "  ...\n",
      "  [217 218 216]\n",
      "  [215 218 216]\n",
      "  [216 217 215]]]\n",
      "0\n"
     ]
    },
    {
     "data": {
      "image/png": "[encoded data removed]",
      "text/plain": [
       "<Figure size 432x288 with 1 Axes>"
      ]
     },
     "metadata": {
      "needs_background": "light"
     },
     "output_type": "display_data"
    },
    {
     "data": {
      "text/plain": [
       "(98, 98)"
      ]
     },
     "execution_count": 9,
     "metadata": {},
     "output_type": "execute_result"
    }
   ],
   "source": [
    "#print(train_df.PATH[1700])\n",
    "image_h,image_w = [98,98]\n",
    "img = cv2.imread(str(df_data_complete.PATH[2]))\n",
    "print(img)\n",
    "print(df_data_complete.CLASS[0])\n",
    "\n",
    "#img =cv2.cvtColor(img, cv2.COLOR_BGR2RGB)\n",
    "img =cv2.cvtColor(img, cv2.COLOR_BGR2GRAY)\n",
    "#(thresh, img) = cv2.threshold(img,127, 255, cv2.THRESH_TRUNC)\n",
    "img = cv2.resize(img,(image_w,image_h))\n",
    "\n",
    "plt.imshow(img)\n",
    "plt.show()\n",
    "img.shape"
   ]
  },
  {
   "cell_type": "code",
   "execution_count": 10,
   "metadata": {},
   "outputs": [],
   "source": [
    "\n",
    "\n",
    "X = []\n",
    "for imgpath in df_data_complete.PATH.tolist():\n",
    "    \n",
    "    X.append(cv2.resize(cv2.imread(imgpath,0),(image_w,image_h)).flatten()/255)\n",
    "    #print(len(train_image_x))\n"
   ]
  },
  {
   "cell_type": "code",
   "execution_count": 11,
   "metadata": {},
   "outputs": [],
   "source": [
    "y = df_data_complete.CLASS"
   ]
  },
  {
   "cell_type": "code",
   "execution_count": 12,
   "metadata": {},
   "outputs": [
    {
     "data": {
      "text/plain": [
       "['Yimage.classes']"
      ]
     },
     "execution_count": 12,
     "metadata": {},
     "output_type": "execute_result"
    }
   ],
   "source": [
    "dump(X,\"Ximage.images\")\n",
    "dump(y,\"Yimage.classes\")"
   ]
  },
  {
   "cell_type": "code",
   "execution_count": 13,
   "metadata": {},
   "outputs": [],
   "source": [
    "X_train,X_test,y_train,y_test = train_test_split(X,y,test_size=0.23, random_state=42)\n"
   ]
  },
  {
   "cell_type": "code",
   "execution_count": null,
   "metadata": {},
   "outputs": [],
   "source": []
  },
  {
   "cell_type": "code",
   "execution_count": 14,
   "metadata": {},
   "outputs": [],
   "source": [
    "#a = train_image_x[0]"
   ]
  },
  {
   "cell_type": "code",
   "execution_count": 15,
   "metadata": {},
   "outputs": [],
   "source": [
    "#a.shape"
   ]
  },
  {
   "cell_type": "code",
   "execution_count": 22,
   "metadata": {},
   "outputs": [],
   "source": [
    "clfsvc = SVC(verbose=True,C=1.5,kernel=\"linear\")"
   ]
  },
  {
   "cell_type": "code",
   "execution_count": 23,
   "metadata": {},
   "outputs": [
    {
     "name": "stdout",
     "output_type": "stream",
     "text": [
      "[LibSVM]"
     ]
    },
    {
     "data": {
      "text/plain": [
       "SVC(C=1.5, cache_size=200, class_weight=None, coef0=0.0,\n",
       "    decision_function_shape='ovr', degree=3, gamma='auto_deprecated',\n",
       "    kernel='linear', max_iter=-1, probability=False, random_state=None,\n",
       "    shrinking=True, tol=0.001, verbose=True)"
      ]
     },
     "execution_count": 23,
     "metadata": {},
     "output_type": "execute_result"
    }
   ],
   "source": [
    "clfsvc.fit(X_train,y_train)"
   ]
  },
  {
   "cell_type": "code",
   "execution_count": 24,
   "metadata": {},
   "outputs": [
    {
     "name": "stderr",
     "output_type": "stream",
     "text": [
      "C:\\Users\\1294414\\AppData\\Local\\Continuum\\anaconda3\\lib\\site-packages\\sklearn\\svm\\base.py:193: FutureWarning: The default value of gamma will change from 'auto' to 'scale' in version 0.22 to account better for unscaled features. Set gamma explicitly to 'auto' or 'scale' to avoid this warning.\n",
      "  \"avoid this warning.\", FutureWarning)\n"
     ]
    },
    {
     "name": "stdout",
     "output_type": "stream",
     "text": [
      "[LibSVM]"
     ]
    },
    {
     "data": {
      "text/plain": [
       "SVC(C=1.0, cache_size=200, class_weight=None, coef0=0.0,\n",
       "    decision_function_shape='ovr', degree=3, gamma='auto_deprecated',\n",
       "    kernel='rbf', max_iter=-1, probability=False, random_state=None,\n",
       "    shrinking=True, tol=0.001, verbose=True)"
      ]
     },
     "execution_count": 24,
     "metadata": {},
     "output_type": "execute_result"
    }
   ],
   "source": [
    "clfsvc2 = SVC(verbose=True,C=1.0,kernel=\"rbf\")\n",
    "clfsvc2.fit(X_train,y_train)"
   ]
  },
  {
   "cell_type": "code",
   "execution_count": 25,
   "metadata": {},
   "outputs": [
    {
     "data": {
      "text/plain": [
       "0.851063829787234"
      ]
     },
     "execution_count": 25,
     "metadata": {},
     "output_type": "execute_result"
    }
   ],
   "source": [
    "accuracy_score(y_true=y_test,y_pred=clfsvc.predict(X_test))"
   ]
  },
  {
   "cell_type": "code",
   "execution_count": 26,
   "metadata": {},
   "outputs": [
    {
     "data": {
      "text/plain": [
       "0.7659574468085106"
      ]
     },
     "execution_count": 26,
     "metadata": {},
     "output_type": "execute_result"
    }
   ],
   "source": [
    "accuracy_score(y_true=y_test,y_pred=clfsvc2.predict(X_test))"
   ]
  },
  {
   "cell_type": "code",
   "execution_count": 59,
   "metadata": {},
   "outputs": [],
   "source": [
    "# random Forest classifier\n",
    "clf = RandomForestClassifier(n_estimators=100,max_depth=2,random_state=1)"
   ]
  },
  {
   "cell_type": "code",
   "execution_count": null,
   "metadata": {},
   "outputs": [],
   "source": []
  },
  {
   "cell_type": "code",
   "execution_count": null,
   "metadata": {},
   "outputs": [],
   "source": []
  },
  {
   "cell_type": "code",
   "execution_count": 60,
   "metadata": {},
   "outputs": [
    {
     "data": {
      "text/plain": [
       "RandomForestClassifier(bootstrap=True, class_weight=None, criterion='gini',\n",
       "                       max_depth=2, max_features='auto', max_leaf_nodes=None,\n",
       "                       min_impurity_decrease=0.0, min_impurity_split=None,\n",
       "                       min_samples_leaf=1, min_samples_split=2,\n",
       "                       min_weight_fraction_leaf=0.0, n_estimators=100,\n",
       "                       n_jobs=None, oob_score=False, random_state=1, verbose=0,\n",
       "                       warm_start=False)"
      ]
     },
     "execution_count": 60,
     "metadata": {},
     "output_type": "execute_result"
    }
   ],
   "source": [
    "clf.fit(X_train,y_train)"
   ]
  },
  {
   "cell_type": "code",
   "execution_count": 61,
   "metadata": {},
   "outputs": [
    {
     "data": {
      "text/plain": [
       "['randomForest.model']"
      ]
     },
     "execution_count": 61,
     "metadata": {},
     "output_type": "execute_result"
    }
   ],
   "source": [
    "#from joblib import dump,load\n",
    "#dump(clf, 'svc_clf_128.model')\n",
    "\n",
    "dump(clf,'randomForest.model')"
   ]
  },
  {
   "cell_type": "markdown",
   "metadata": {},
   "source": []
  },
  {
   "cell_type": "code",
   "execution_count": 62,
   "metadata": {},
   "outputs": [],
   "source": [
    "#clf_test = load(\"../working/svc_clf_.model\")\n",
    "# model_file = \"model.sav\"\n",
    "# with open(model_file,mode='wb') as model_f:\n",
    "#     pickle.dump(clf,model_f)\n",
    "# with open(model_file,mode='rb') as model_f:\n",
    "#     model = pickle.load(model_f)\n",
    "#     #result = model.score(X_test,Y_test)\n",
    "#     print(\"result:\",\"result\")"
   ]
  },
  {
   "cell_type": "code",
   "execution_count": 28,
   "metadata": {},
   "outputs": [],
   "source": [
    "#os.listdir(\"../working\")\n",
    "\n",
    "clf_randomForest = load('randomForest.model')\n",
    "clf_svc = load('svc_clf_128.model')"
   ]
  },
  {
   "cell_type": "code",
   "execution_count": 73,
   "metadata": {},
   "outputs": [],
   "source": [
    "#randomforest accuracy score on train data\n",
    "train_rf_accu = accuracy_score(y_true=y_train,y_pred=clf_randomForest.predict(X_train))"
   ]
  },
  {
   "cell_type": "code",
   "execution_count": 74,
   "metadata": {},
   "outputs": [],
   "source": [
    "#randomforest accuracy score on test data\n",
    "test_rf_accu = accuracy_score(y_true=y_test,y_pred=clf_randomForest.predict(X_test))"
   ]
  },
  {
   "cell_type": "code",
   "execution_count": 75,
   "metadata": {},
   "outputs": [],
   "source": [
    "#svm accuracy score on train data\n",
    "train_svc_accu = accuracy_score(y_true=y_train,y_pred=clf_svc.predict(X_train))"
   ]
  },
  {
   "cell_type": "code",
   "execution_count": 76,
   "metadata": {},
   "outputs": [],
   "source": [
    "#svm accuracy score  on test data\n",
    "test_svc_accu =accuracy_score(y_true=y_test,y_pred=clf_svc.predict(X_test))"
   ]
  },
  {
   "cell_type": "code",
   "execution_count": 68,
   "metadata": {},
   "outputs": [],
   "source": [
    "#tn, fp, fn, tp =metrics.confusion_matrix(y_pred=clf.predict(test_image_x),y_true=test_y).ravel()"
   ]
  },
  {
   "cell_type": "code",
   "execution_count": 69,
   "metadata": {},
   "outputs": [],
   "source": [
    "#tn, fp, fn, tp"
   ]
  },
  {
   "cell_type": "code",
   "execution_count": 70,
   "metadata": {},
   "outputs": [],
   "source": [
    "###-------- now we will  apply factorize machine ------####\n",
    "\n"
   ]
  },
  {
   "cell_type": "code",
   "execution_count": 29,
   "metadata": {},
   "outputs": [
    {
     "name": "stdout",
     "output_type": "stream",
     "text": [
      "[[[214 207 204]\n",
      "  [214 207 204]\n",
      "  [214 207 204]\n",
      "  ...\n",
      "  [212 205 202]\n",
      "  [212 205 202]\n",
      "  [212 205 202]]\n",
      "\n",
      " [[215 207 204]\n",
      "  [215 207 204]\n",
      "  [215 207 204]\n",
      "  ...\n",
      "  [212 205 202]\n",
      "  [212 205 202]\n",
      "  [212 205 202]]\n",
      "\n",
      " [[216 207 204]\n",
      "  [216 207 204]\n",
      "  [216 207 204]\n",
      "  ...\n",
      "  [212 205 202]\n",
      "  [212 205 202]\n",
      "  [212 205 202]]\n",
      "\n",
      " ...\n",
      "\n",
      " [[126 155 159]\n",
      "  [126 155 159]\n",
      "  [126 155 160]\n",
      "  ...\n",
      "  [ 74  79  83]\n",
      "  [ 75  81  85]\n",
      "  [ 75  81  86]]\n",
      "\n",
      " [[124 153 158]\n",
      "  [124 153 158]\n",
      "  [125 154 159]\n",
      "  ...\n",
      "  [ 76  81  85]\n",
      "  [ 78  83  87]\n",
      "  [ 78  83  88]]\n",
      "\n",
      " [[123 152 157]\n",
      "  [123 152 157]\n",
      "  [124 153 158]\n",
      "  ...\n",
      "  [ 77  81  86]\n",
      "  [ 79  83  88]\n",
      "  [ 79  83  88]]]\n",
      "0\n"
     ]
    },
    {
     "data": {
      "image/png": "[encoded data removed]",
      "text/plain": [
       "<Figure size 432x288 with 1 Axes>"
      ]
     },
     "metadata": {
      "needs_background": "light"
     },
     "output_type": "display_data"
    },
    {
     "data": {
      "image/png": "[encoded data removed]",
      "text/plain": [
       "<Figure size 432x288 with 1 Axes>"
      ]
     },
     "metadata": {
      "needs_background": "light"
     },
     "output_type": "display_data"
    },
    {
     "name": "stdout",
     "output_type": "stream",
     "text": [
      "Not Bald\n"
     ]
    }
   ],
   "source": [
    "#C:\\Users\\1294414\\Documents\\ML practice folder\\Baldness\n",
    "imagepath = \"C:\\\\Users\\\\1294414\\\\Documents\\\\ML practice folder\\\\Baldness\\\\nik.png\"\n",
    "image_h,image_w = [98,98]\n",
    "img = cv2.imread(imagepath)\n",
    "\n",
    "print(img)\n",
    "print(df_data_complete.CLASS[0])\n",
    "#print(img)\n",
    "#img =cv2.cvtColor(img, cv2.COLOR_BGR2GRAY)\n",
    "img = cv2.resize(img,(image_w,image_h))\n",
    "plt.imshow(img)\n",
    "plt.show()\n",
    "img.shape\n",
    "import matplotlib.image as mpimg\n",
    "from skimage.color import rgb2gray\n",
    "img=mpimg.imread(imagepath)\n",
    "img = rgb2gray(img)\n",
    "#img =cv2.cvtColor(img, cv2.COLOR_BGR2GRAY)\n",
    "img = cv2.resize(img,(image_w,image_h))\n",
    "plt.imshow(img)\n",
    "plt.show()\n",
    "\n",
    "\n",
    "shubamX = []\n",
    "shubamX.append(cv2.resize(cv2.imread(imagepath,0),(image_w,image_h)).flatten()/255)\n",
    "shubamY = [1]\n",
    "\n",
    "if clf_randomForest.predict(shubamX)[0] == 0:\n",
    "    print(\"Bald\")\n",
    "if clf_randomForest.predict(shubamX)[0] == 1:\n",
    "    print(\"Not Bald\")"
   ]
  },
  {
   "cell_type": "code",
   "execution_count": 72,
   "metadata": {},
   "outputs": [],
   "source": [
    "#clf = load('randomForest.model')"
   ]
  },
  {
   "cell_type": "code",
   "execution_count": 30,
   "metadata": {},
   "outputs": [
    {
     "ename": "NameError",
     "evalue": "name 'train_rf_accu' is not defined",
     "output_type": "error",
     "traceback": [
      "\u001b[1;31m---------------------------------------------------------------------------\u001b[0m",
      "\u001b[1;31mNameError\u001b[0m                                 Traceback (most recent call last)",
      "\u001b[1;32m<ipython-input-30-76798b0a9499>\u001b[0m in \u001b[0;36m<module>\u001b[1;34m\u001b[0m\n\u001b[0;32m      1\u001b[0m \u001b[1;31m#x=[train_rf_accu,test_rf_accu,train_svc_accu,test_svc_accu]\u001b[0m\u001b[1;33m\u001b[0m\u001b[1;33m\u001b[0m\u001b[1;33m\u001b[0m\u001b[0m\n\u001b[0;32m      2\u001b[0m \u001b[1;31m#print(x)\u001b[0m\u001b[1;33m\u001b[0m\u001b[1;33m\u001b[0m\u001b[1;33m\u001b[0m\u001b[0m\n\u001b[1;32m----> 3\u001b[1;33m \u001b[0my\u001b[0m\u001b[1;33m=\u001b[0m\u001b[1;33m[\u001b[0m\u001b[0mtrain_rf_accu\u001b[0m\u001b[1;33m,\u001b[0m\u001b[0mtest_rf_accu\u001b[0m\u001b[1;33m,\u001b[0m\u001b[0mtrain_svc_accu\u001b[0m\u001b[1;33m,\u001b[0m\u001b[0mtest_svc_accu\u001b[0m\u001b[1;33m]\u001b[0m\u001b[1;33m\u001b[0m\u001b[1;33m\u001b[0m\u001b[0m\n\u001b[0m\u001b[0;32m      4\u001b[0m \u001b[0msns\u001b[0m\u001b[1;33m.\u001b[0m\u001b[0mset_context\u001b[0m\u001b[1;33m(\u001b[0m\u001b[0mrc\u001b[0m\u001b[1;33m=\u001b[0m\u001b[1;33m{\u001b[0m\u001b[1;34m\"figure.figsize\"\u001b[0m\u001b[1;33m:\u001b[0m \u001b[1;33m(\u001b[0m\u001b[1;36m8\u001b[0m\u001b[1;33m,\u001b[0m \u001b[1;36m4\u001b[0m\u001b[1;33m)\u001b[0m\u001b[1;33m}\u001b[0m\u001b[1;33m)\u001b[0m\u001b[1;33m\u001b[0m\u001b[1;33m\u001b[0m\u001b[0m\n\u001b[0;32m      5\u001b[0m \u001b[0mnd\u001b[0m \u001b[1;33m=\u001b[0m \u001b[0mnp\u001b[0m\u001b[1;33m.\u001b[0m\u001b[0marange\u001b[0m\u001b[1;33m(\u001b[0m\u001b[1;36m4\u001b[0m\u001b[1;33m)\u001b[0m\u001b[1;33m\u001b[0m\u001b[1;33m\u001b[0m\u001b[0m\n",
      "\u001b[1;31mNameError\u001b[0m: name 'train_rf_accu' is not defined"
     ]
    }
   ],
   "source": [
    "#x=[train_rf_accu,test_rf_accu,train_svc_accu,test_svc_accu]\n",
    "#print(x)\n",
    "y=[train_rf_accu,test_rf_accu,train_svc_accu,test_svc_accu]\n",
    "sns.set_context(rc={\"figure.figsize\": (8, 4)})\n",
    "nd = np.arange(4)\n",
    "width=.25\n",
    "plt.xticks(nd+width/2., ('train_RF_accu','test_RF_accu','train_SVM_accu','test_SVM_accu'))\n",
    "#plt.xlim(-0.15,3)\n",
    "fig = plt.bar(nd, y, color=sns.color_palette(\"Blues\",4))\n",
    "plt.legend(fig, ['train_RF_accu','test_RF_accu','train_SVM_accu','test_SVM_accu'], loc = \"best\", title = \"Accuracy PLot\")\n",
    "plt.ylabel(\"Accuracy\")\n",
    "plt.xlabel(\"Alogrithm & Data type\")\n",
    "plt.show()"
   ]
  },
  {
   "cell_type": "code",
   "execution_count": null,
   "metadata": {},
   "outputs": [],
   "source": []
  }
 ],
 "metadata": {
  "kernelspec": {
   "display_name": "Python 3",
   "language": "python",
   "name": "python3"
  },
  "language_info": {
   "codemirror_mode": {
    "name": "ipython",
    "version": 3
   },
   "file_extension": ".py",
   "mimetype": "text/x-python",
   "name": "python",
   "nbconvert_exporter": "python",
   "pygments_lexer": "ipython3",
   "version": "3.7.3"
  }
 },
 "nbformat": 4,
 "nbformat_minor": 1
}
